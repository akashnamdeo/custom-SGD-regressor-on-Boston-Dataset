{
 "cells": [
  {
   "cell_type": "code",
   "execution_count": 23,
   "metadata": {},
   "outputs": [],
   "source": [
    "from sklearn import datasets\n",
    "import numpy as np\n",
    "import matplotlib.pyplot as plt\n",
    "from sklearn.preprocessing import StandardScaler\n",
    "from sklearn.model_selection import train_test_split\n",
    "from sklearn.metrics import mean_squared_error\n",
    "import pandas as pd"
   ]
  },
  {
   "cell_type": "markdown",
   "metadata": {},
   "source": [
    "## importing data"
   ]
  },
  {
   "cell_type": "code",
   "execution_count": 24,
   "metadata": {},
   "outputs": [],
   "source": [
    "boston = datasets.load_boston()\n",
    "x = boston.data\n",
    "y = boston.target"
   ]
  },
  {
   "cell_type": "markdown",
   "metadata": {},
   "source": [
    "## description of the data"
   ]
  },
  {
   "cell_type": "code",
   "execution_count": 25,
   "metadata": {},
   "outputs": [
    {
     "name": "stdout",
     "output_type": "stream",
     "text": [
      "Boston House Prices dataset\n",
      "===========================\n",
      "\n",
      "Notes\n",
      "------\n",
      "Data Set Characteristics:  \n",
      "\n",
      "    :Number of Instances: 506 \n",
      "\n",
      "    :Number of Attributes: 13 numeric/categorical predictive\n",
      "    \n",
      "    :Median Value (attribute 14) is usually the target\n",
      "\n",
      "    :Attribute Information (in order):\n",
      "        - CRIM     per capita crime rate by town\n",
      "        - ZN       proportion of residential land zoned for lots over 25,000 sq.ft.\n",
      "        - INDUS    proportion of non-retail business acres per town\n",
      "        - CHAS     Charles River dummy variable (= 1 if tract bounds river; 0 otherwise)\n",
      "        - NOX      nitric oxides concentration (parts per 10 million)\n",
      "        - RM       average number of rooms per dwelling\n",
      "        - AGE      proportion of owner-occupied units built prior to 1940\n",
      "        - DIS      weighted distances to five Boston employment centres\n",
      "        - RAD      index of accessibility to radial highways\n",
      "        - TAX      full-value property-tax rate per $10,000\n",
      "        - PTRATIO  pupil-teacher ratio by town\n",
      "        - B        1000(Bk - 0.63)^2 where Bk is the proportion of blacks by town\n",
      "        - LSTAT    % lower status of the population\n",
      "        - MEDV     Median value of owner-occupied homes in $1000's\n",
      "\n",
      "    :Missing Attribute Values: None\n",
      "\n",
      "    :Creator: Harrison, D. and Rubinfeld, D.L.\n",
      "\n",
      "This is a copy of UCI ML housing dataset.\n",
      "http://archive.ics.uci.edu/ml/datasets/Housing\n",
      "\n",
      "\n",
      "This dataset was taken from the StatLib library which is maintained at Carnegie Mellon University.\n",
      "\n",
      "The Boston house-price data of Harrison, D. and Rubinfeld, D.L. 'Hedonic\n",
      "prices and the demand for clean air', J. Environ. Economics & Management,\n",
      "vol.5, 81-102, 1978.   Used in Belsley, Kuh & Welsch, 'Regression diagnostics\n",
      "...', Wiley, 1980.   N.B. Various transformations are used in the table on\n",
      "pages 244-261 of the latter.\n",
      "\n",
      "The Boston house-price data has been used in many machine learning papers that address regression\n",
      "problems.   \n",
      "     \n",
      "**References**\n",
      "\n",
      "   - Belsley, Kuh & Welsch, 'Regression diagnostics: Identifying Influential Data and Sources of Collinearity', Wiley, 1980. 244-261.\n",
      "   - Quinlan,R. (1993). Combining Instance-Based and Model-Based Learning. In Proceedings on the Tenth International Conference of Machine Learning, 236-243, University of Massachusetts, Amherst. Morgan Kaufmann.\n",
      "   - many more! (see http://archive.ics.uci.edu/ml/datasets/Housing)\n",
      "\n"
     ]
    }
   ],
   "source": [
    "print(boston.DESCR)"
   ]
  },
  {
   "cell_type": "markdown",
   "metadata": {},
   "source": [
    "## splitting the data into train and test"
   ]
  },
  {
   "cell_type": "code",
   "execution_count": 26,
   "metadata": {},
   "outputs": [],
   "source": [
    "train,test,labelsTrain,labelsTest=train_test_split(x,y,test_size=0.3)"
   ]
  },
  {
   "cell_type": "markdown",
   "metadata": {},
   "source": [
    "## standardizing data"
   ]
  },
  {
   "cell_type": "code",
   "execution_count": 27,
   "metadata": {},
   "outputs": [],
   "source": [
    "std=StandardScaler()\n",
    "std.fit(train)\n",
    "train=std.transform(train)\n",
    "test=std.transform(test)"
   ]
  },
  {
   "cell_type": "markdown",
   "metadata": {},
   "source": [
    "## custom algorithm"
   ]
  },
  {
   "cell_type": "markdown",
   "metadata": {},
   "source": [
    "### pseudo code"
   ]
  },
  {
   "cell_type": "markdown",
   "metadata": {},
   "source": [
    "weightVec.shape-->(13,1)\n",
    "\n",
    "intercept-->const(1,1)\n",
    "\n",
    "total iterations-->n_epochs(200)\n",
    "\n",
    "for epoch in range(epoch):\n",
    "\n",
    "    total error=0\n",
    "    \n",
    "    for i in range(train data):\n",
    "        \n",
    "        randomly take data point and its class\n",
    "        \n",
    "        predict its weight using randomly initialized weightvec and intercept\n",
    "        \n",
    "        cal error and add it to total error\n",
    "        \n",
    "        new WeightVec=old-learningrate*(2/n)*(datapoint * error)\n",
    "        \n",
    "        new intercept=old-lrate*(2/n)* (error)\n",
    "        \n",
    "    change learning rate."
   ]
  },
  {
   "cell_type": "raw",
   "metadata": {},
   "source": [
    "### implementation"
   ]
  },
  {
   "cell_type": "code",
   "execution_count": 28,
   "metadata": {},
   "outputs": [
    {
     "name": "stdout",
     "output_type": "stream",
     "text": [
      "epoch = 1, loss=[[269.47763944]]\n",
      "epoch = 2, loss=[[47.14956463]]\n",
      "epoch = 3, loss=[[22.10157107]]\n",
      "epoch = 4, loss=[[16.14974937]]\n",
      "epoch = 5, loss=[[22.50401881]]\n",
      "epoch = 6, loss=[[13.00368734]]\n",
      "epoch = 7, loss=[[15.95799951]]\n",
      "epoch = 8, loss=[[16.59929775]]\n",
      "epoch = 9, loss=[[19.67882843]]\n",
      "epoch = 10, loss=[[15.34854081]]\n",
      "epoch = 11, loss=[[18.05988657]]\n",
      "epoch = 12, loss=[[21.65687679]]\n",
      "epoch = 13, loss=[[13.58876599]]\n",
      "epoch = 14, loss=[[14.6538062]]\n",
      "epoch = 15, loss=[[19.08506117]]\n",
      "epoch = 16, loss=[[16.16340616]]\n",
      "epoch = 17, loss=[[16.08579899]]\n",
      "epoch = 18, loss=[[15.30836517]]\n",
      "epoch = 19, loss=[[17.06607174]]\n",
      "epoch = 20, loss=[[16.82255662]]\n",
      "epoch = 21, loss=[[21.33366554]]\n",
      "epoch = 22, loss=[[18.32195975]]\n",
      "epoch = 23, loss=[[13.99809804]]\n",
      "epoch = 24, loss=[[16.43039257]]\n",
      "epoch = 25, loss=[[18.3346964]]\n",
      "epoch = 26, loss=[[15.23500288]]\n",
      "epoch = 27, loss=[[23.52274737]]\n",
      "epoch = 28, loss=[[17.1831914]]\n",
      "epoch = 29, loss=[[19.88006823]]\n",
      "epoch = 30, loss=[[17.0117563]]\n",
      "epoch = 31, loss=[[17.75652102]]\n",
      "epoch = 32, loss=[[17.36340101]]\n",
      "epoch = 33, loss=[[18.11875301]]\n",
      "epoch = 34, loss=[[18.73557105]]\n",
      "epoch = 35, loss=[[16.37936716]]\n",
      "epoch = 36, loss=[[16.79273073]]\n",
      "epoch = 37, loss=[[17.35057317]]\n",
      "epoch = 38, loss=[[16.75845818]]\n",
      "epoch = 39, loss=[[22.29845948]]\n",
      "epoch = 40, loss=[[16.50716856]]\n",
      "epoch = 41, loss=[[16.01099555]]\n",
      "epoch = 42, loss=[[20.32893653]]\n",
      "epoch = 43, loss=[[20.08379052]]\n",
      "epoch = 44, loss=[[19.62594953]]\n",
      "epoch = 45, loss=[[22.32577355]]\n",
      "epoch = 46, loss=[[19.53092745]]\n",
      "epoch = 47, loss=[[23.0410625]]\n",
      "epoch = 48, loss=[[16.47210054]]\n",
      "epoch = 49, loss=[[21.07550969]]\n",
      "epoch = 50, loss=[[16.46369923]]\n",
      "epoch = 51, loss=[[17.05131768]]\n",
      "epoch = 52, loss=[[14.57575015]]\n",
      "epoch = 53, loss=[[16.74978106]]\n",
      "epoch = 54, loss=[[17.25637573]]\n",
      "epoch = 55, loss=[[18.91832821]]\n",
      "epoch = 56, loss=[[24.55866177]]\n",
      "epoch = 57, loss=[[13.93570785]]\n",
      "epoch = 58, loss=[[18.65954378]]\n",
      "epoch = 59, loss=[[22.15179359]]\n",
      "epoch = 60, loss=[[22.11086725]]\n",
      "epoch = 61, loss=[[18.09201987]]\n",
      "epoch = 62, loss=[[18.60783388]]\n",
      "epoch = 63, loss=[[18.45183727]]\n",
      "epoch = 64, loss=[[22.45705295]]\n",
      "epoch = 65, loss=[[14.98366747]]\n",
      "epoch = 66, loss=[[13.8465044]]\n",
      "epoch = 67, loss=[[17.53729755]]\n",
      "epoch = 68, loss=[[15.82557894]]\n",
      "epoch = 69, loss=[[14.66356343]]\n",
      "epoch = 70, loss=[[15.68339406]]\n",
      "epoch = 71, loss=[[23.61665914]]\n",
      "epoch = 72, loss=[[25.41479521]]\n",
      "epoch = 73, loss=[[20.24422832]]\n",
      "epoch = 74, loss=[[19.08458331]]\n",
      "epoch = 75, loss=[[18.17214622]]\n",
      "epoch = 76, loss=[[15.6762677]]\n",
      "epoch = 77, loss=[[19.48100131]]\n",
      "epoch = 78, loss=[[20.72566084]]\n",
      "epoch = 79, loss=[[13.45320659]]\n",
      "epoch = 80, loss=[[11.05405139]]\n",
      "epoch = 81, loss=[[13.04834406]]\n",
      "epoch = 82, loss=[[17.89891365]]\n",
      "epoch = 83, loss=[[17.14866151]]\n",
      "epoch = 84, loss=[[19.89304176]]\n",
      "epoch = 85, loss=[[16.83490323]]\n",
      "epoch = 86, loss=[[16.65401338]]\n",
      "epoch = 87, loss=[[14.56931452]]\n",
      "epoch = 88, loss=[[17.08884379]]\n",
      "epoch = 89, loss=[[13.55070481]]\n",
      "epoch = 90, loss=[[18.3305637]]\n",
      "epoch = 91, loss=[[15.24193851]]\n",
      "epoch = 92, loss=[[23.6398983]]\n",
      "epoch = 93, loss=[[16.23318904]]\n",
      "epoch = 94, loss=[[18.94165258]]\n",
      "epoch = 95, loss=[[18.38640751]]\n",
      "epoch = 96, loss=[[18.93256167]]\n",
      "epoch = 97, loss=[[22.02424233]]\n",
      "epoch = 98, loss=[[13.6318711]]\n",
      "epoch = 99, loss=[[21.4780232]]\n",
      "epoch = 100, loss=[[19.28652044]]\n",
      "epoch = 101, loss=[[19.59590121]]\n",
      "epoch = 102, loss=[[14.64852942]]\n",
      "epoch = 103, loss=[[17.93054271]]\n",
      "epoch = 104, loss=[[22.11374785]]\n",
      "epoch = 105, loss=[[12.07841215]]\n",
      "epoch = 106, loss=[[25.22248332]]\n",
      "epoch = 107, loss=[[14.94452347]]\n",
      "epoch = 108, loss=[[21.01455461]]\n",
      "epoch = 109, loss=[[22.75153434]]\n",
      "epoch = 110, loss=[[17.19684141]]\n",
      "epoch = 111, loss=[[14.70177937]]\n",
      "epoch = 112, loss=[[12.88779891]]\n",
      "epoch = 113, loss=[[17.71369587]]\n",
      "epoch = 114, loss=[[20.25596071]]\n",
      "epoch = 115, loss=[[19.35513128]]\n",
      "epoch = 116, loss=[[22.09625595]]\n",
      "epoch = 117, loss=[[23.50819427]]\n",
      "epoch = 118, loss=[[16.2428747]]\n",
      "epoch = 119, loss=[[17.45404811]]\n",
      "epoch = 120, loss=[[22.73033906]]\n",
      "epoch = 121, loss=[[18.39332871]]\n",
      "epoch = 122, loss=[[16.86220766]]\n",
      "epoch = 123, loss=[[22.97413976]]\n",
      "epoch = 124, loss=[[17.08581654]]\n",
      "epoch = 125, loss=[[14.90617199]]\n",
      "epoch = 126, loss=[[20.62786743]]\n",
      "epoch = 127, loss=[[14.09983991]]\n",
      "epoch = 128, loss=[[18.49335917]]\n",
      "epoch = 129, loss=[[14.40047593]]\n",
      "epoch = 130, loss=[[15.42758691]]\n",
      "epoch = 131, loss=[[21.77236736]]\n",
      "epoch = 132, loss=[[22.76444613]]\n",
      "epoch = 133, loss=[[18.20028874]]\n",
      "epoch = 134, loss=[[12.38087927]]\n",
      "epoch = 135, loss=[[13.9901947]]\n",
      "epoch = 136, loss=[[11.8314183]]\n",
      "epoch = 137, loss=[[15.77001605]]\n",
      "epoch = 138, loss=[[17.38250012]]\n",
      "epoch = 139, loss=[[18.66748706]]\n",
      "epoch = 140, loss=[[16.73320586]]\n",
      "epoch = 141, loss=[[15.91538057]]\n",
      "epoch = 142, loss=[[15.43544841]]\n",
      "epoch = 143, loss=[[16.57948631]]\n",
      "epoch = 144, loss=[[17.8661345]]\n",
      "epoch = 145, loss=[[18.65863849]]\n",
      "epoch = 146, loss=[[15.14676144]]\n",
      "epoch = 147, loss=[[16.22169028]]\n",
      "epoch = 148, loss=[[18.1538]]\n",
      "epoch = 149, loss=[[14.43277484]]\n",
      "epoch = 150, loss=[[17.55919958]]\n",
      "epoch = 151, loss=[[23.06337283]]\n",
      "epoch = 152, loss=[[22.4774301]]\n",
      "epoch = 153, loss=[[21.16991396]]\n",
      "epoch = 154, loss=[[19.19065562]]\n",
      "epoch = 155, loss=[[15.95461287]]\n",
      "epoch = 156, loss=[[17.10050824]]\n",
      "epoch = 157, loss=[[22.10199157]]\n",
      "epoch = 158, loss=[[13.24598148]]\n",
      "epoch = 159, loss=[[18.12067836]]\n",
      "epoch = 160, loss=[[17.31051031]]\n",
      "epoch = 161, loss=[[19.78244107]]\n",
      "epoch = 162, loss=[[14.28474534]]\n",
      "epoch = 163, loss=[[16.95340577]]\n",
      "epoch = 164, loss=[[20.15911684]]\n",
      "epoch = 165, loss=[[21.47394921]]\n",
      "epoch = 166, loss=[[25.17154789]]\n",
      "epoch = 167, loss=[[13.12913005]]\n",
      "epoch = 168, loss=[[19.88776084]]\n",
      "epoch = 169, loss=[[19.85853367]]\n",
      "epoch = 170, loss=[[22.52333528]]\n",
      "epoch = 171, loss=[[17.2540303]]\n",
      "epoch = 172, loss=[[16.54129918]]\n",
      "epoch = 173, loss=[[21.35302753]]\n",
      "epoch = 174, loss=[[13.9751678]]\n",
      "epoch = 175, loss=[[16.64469728]]\n",
      "epoch = 176, loss=[[21.02669471]]\n",
      "epoch = 177, loss=[[20.06091981]]\n",
      "epoch = 178, loss=[[15.22954663]]\n",
      "epoch = 179, loss=[[21.06306544]]\n",
      "epoch = 180, loss=[[27.09204005]]\n",
      "epoch = 181, loss=[[13.9321247]]\n",
      "epoch = 182, loss=[[17.82227182]]\n",
      "epoch = 183, loss=[[15.99606373]]\n",
      "epoch = 184, loss=[[21.84658218]]\n",
      "epoch = 185, loss=[[18.50464909]]\n",
      "epoch = 186, loss=[[14.39335809]]\n",
      "epoch = 187, loss=[[11.85944704]]\n",
      "epoch = 188, loss=[[19.72823869]]\n",
      "epoch = 189, loss=[[14.3203879]]\n",
      "epoch = 190, loss=[[15.0494597]]\n",
      "epoch = 191, loss=[[15.03285645]]\n",
      "epoch = 192, loss=[[23.42087171]]\n",
      "epoch = 193, loss=[[18.19964878]]\n",
      "epoch = 194, loss=[[22.0885822]]\n",
      "epoch = 195, loss=[[12.63457196]]\n",
      "epoch = 196, loss=[[20.73909598]]\n",
      "epoch = 197, loss=[[16.47037107]]\n",
      "epoch = 198, loss=[[20.8545803]]\n",
      "epoch = 199, loss=[[18.46473695]]\n"
     ]
    }
   ],
   "source": [
    "#weight vector\n",
    "WeightVec=np.random.randn(13,1)\n",
    "\n",
    "#intercept term\n",
    "intercept=np.random.randn(1,1)  \n",
    "\n",
    "#learning rate\n",
    "lrate=0.5\n",
    "\n",
    "#total iterations\n",
    "n_epochs=200\n",
    "\n",
    "power_t=0.25\n",
    "for epoch in range(1,200):\n",
    "    #total error for this epoch\n",
    "    Ferror=0\n",
    "    \n",
    "    #no. of data points\n",
    "    n=train.shape[0]\n",
    "    \n",
    "    for i in range(n):\n",
    "        #batch\n",
    "        k=np.random.randint(0,n)\n",
    "        \n",
    "        xTrain=train[k,:]\n",
    "        xTrain=xTrain.reshape(1,train.shape[1])#xTrain.shape=(1,13)\n",
    "        \n",
    "        yTrain=labelsTrain[k]\n",
    "        yTrain=yTrain.reshape(1,1)#yTrain.shape(1,1)\n",
    "        \n",
    "        #ypred=w.T*X+b\n",
    "        ypred=np.dot(xTrain,WeightVec)+ intercept#(1)\n",
    "        \n",
    "        #difference in prediction\n",
    "        error=ypred-yTrain\n",
    "        \n",
    "        #summing up the error\n",
    "        Ferror+=error**2\n",
    "        \n",
    "        #x.T*(ypred-trueY)\n",
    "        temp1=xTrain.T.dot(error)#(13,1)*(1,1)=(13,1)\n",
    "        \n",
    "        #updated weight vector\n",
    "        #w(i)=w(i-1)-(2/n)*lrate*(y(i)-w.T*X(i)*X(i))\n",
    "        WeightVec=WeightVec-(2/n)*lrate*(temp1)#(13,1)-const*(2/n)*(13,1)*(1,1)=(13,1)\n",
    "        \n",
    "        #updated intercept term\n",
    "        intercept=intercept-lrate*(2/n)*(error)\n",
    "        \n",
    "    print(\"epoch = {}, loss={}\".format(epoch,Ferror/n))\n",
    "    #‘invscaling’: [default]\n",
    "    #eta = eta0 / pow(t, power_t)\n",
    "    #sgd regressor learning rate\n",
    "    lrate = lrate / pow(epoch, power_t)"
   ]
  },
  {
   "cell_type": "markdown",
   "metadata": {},
   "source": [
    "# using SGDRegressor from sklearn's implementation"
   ]
  },
  {
   "cell_type": "code",
   "execution_count": 29,
   "metadata": {},
   "outputs": [
    {
     "name": "stderr",
     "output_type": "stream",
     "text": [
      "C:\\Users\\akash\\Anaconda3\\lib\\site-packages\\sklearn\\linear_model\\stochastic_gradient.py:128: FutureWarning: max_iter and tol parameters have been added in <class 'sklearn.linear_model.stochastic_gradient.SGDRegressor'> in 0.19. If both are left unset, they default to max_iter=5 and tol=None. If tol is not None, max_iter defaults to max_iter=1000. From 0.21, default max_iter will be 1000, and default tol will be 1e-3.\n",
      "  \"and default tol will be 1e-3.\" % type(self), FutureWarning)\n"
     ]
    }
   ],
   "source": [
    "from sklearn.linear_model import SGDRegressor\n",
    "clf=SGDRegressor()\n",
    "clf.fit(train,labelsTrain)\n",
    "weights=clf.coef_\n",
    "sgdPred=clf.predict(test)"
   ]
  },
  {
   "cell_type": "markdown",
   "metadata": {},
   "source": [
    "## comparing weights of custom and sklearn's  implementation"
   ]
  },
  {
   "cell_type": "code",
   "execution_count": 30,
   "metadata": {},
   "outputs": [
    {
     "name": "stdout",
     "output_type": "stream",
     "text": [
      "+---------------+----------------------+\n",
      "|     Custom    |       sklearn        |\n",
      "+---------------+----------------------+\n",
      "| [-0.94660926] | -0.8014230741025349  |\n",
      "|  [0.57743798] | 0.16884988413493943  |\n",
      "| [-0.45119461] | -0.30230439778284085 |\n",
      "|  [0.54257463] |  0.6103925391390959  |\n",
      "| [-1.57828235] |  -1.001078816573237  |\n",
      "|  [3.01153879] |  3.2711567848117626  |\n",
      "|  [0.11586596] | -0.1610110120991482  |\n",
      "| [-2.22409937] | -1.5371616103946477  |\n",
      "|  [0.65834524] |  0.6649142927083375  |\n",
      "| [-0.25824307] |  -0.59094454730005   |\n",
      "| [-1.74798257] | -1.7047368044195386  |\n",
      "|  [0.73411827] |  0.8054264063036825  |\n",
      "| [-3.07617738] | -2.7405226910082257  |\n",
      "+---------------+----------------------+\n"
     ]
    }
   ],
   "source": [
    "from prettytable import PrettyTable\n",
    "x = PrettyTable()\n",
    "x.field_names = [\"Custom\",\"sklearn\"]\n",
    "for i,j in zip(WeightVec,weights):\n",
    "    x.add_row([i,j])\n",
    "print(x)"
   ]
  },
  {
   "cell_type": "markdown",
   "metadata": {},
   "source": [
    "weights are almost same. there's a minor difference between the weights"
   ]
  },
  {
   "cell_type": "markdown",
   "metadata": {},
   "source": [
    "## predicting the values for test dataset using weight and intercept"
   ]
  },
  {
   "cell_type": "code",
   "execution_count": 31,
   "metadata": {},
   "outputs": [],
   "source": [
    "predicted=[]\n",
    "for data in test:\n",
    "    predicted.append(np.dot(data,WeightVec)+intercept)    "
   ]
  },
  {
   "cell_type": "markdown",
   "metadata": {},
   "source": [
    "## scatter plot for actual values vs predicted values"
   ]
  },
  {
   "cell_type": "code",
   "execution_count": 32,
   "metadata": {},
   "outputs": [
    {
     "data": {
      "image/png": "[encoded data removed]",
      "text/plain": [
       "<Figure size 432x288 with 1 Axes>"
      ]
     },
     "metadata": {},
     "output_type": "display_data"
    }
   ],
   "source": [
    "plt.scatter(predicted,labelsTest)\n",
    "plt.xlabel(\"predicted\")\n",
    "plt.ylabel(\"actual\")\n",
    "plt.show()"
   ]
  },
  {
   "cell_type": "markdown",
   "metadata": {},
   "source": [
    "## comparing results from sgd regressor and custom regressor"
   ]
  },
  {
   "cell_type": "code",
   "execution_count": 33,
   "metadata": {},
   "outputs": [
    {
     "data": {
      "text/plain": [
       "[<matplotlib.lines.Line2D at 0x1cbf02856d8>]"
      ]
     },
     "execution_count": 33,
     "metadata": {},
     "output_type": "execute_result"
    },
    {
     "data": {
      "image/png": "[encoded data removed]",
      "text/plain": [
       "<Figure size 432x288 with 1 Axes>"
      ]
     },
     "metadata": {},
     "output_type": "display_data"
    }
   ],
   "source": [
    "plt.plot(sgdPred,color=\"b\")\n",
    "plt.plot(np.array(predicted).reshape(152,1),color=\"r\")"
   ]
  },
  {
   "cell_type": "markdown",
   "metadata": {},
   "source": [
    "## comparing difference of  custom implementation and actual values"
   ]
  },
  {
   "cell_type": "code",
   "execution_count": 34,
   "metadata": {},
   "outputs": [
    {
     "data": {
      "image/png": "[encoded data removed]",
      "text/plain": [
       "<Figure size 432x288 with 1 Axes>"
      ]
     },
     "metadata": {},
     "output_type": "display_data"
    }
   ],
   "source": [
    "predicted=np.array(predicted).reshape(152)\n",
    "deltaY=predicted-labelsTest\n",
    "import seaborn as sns;\n",
    "import numpy as np;\n",
    "sns.set_style('whitegrid')\n",
    "sns.kdeplot(deltaY, bw=0.5)\n",
    "plt.show()"
   ]
  },
  {
   "cell_type": "markdown",
   "metadata": {},
   "source": [
    "the mean value is almost 0 and there's little bit of variance."
   ]
  },
  {
   "cell_type": "markdown",
   "metadata": {},
   "source": [
    "## kde plot for actual values of dataset"
   ]
  },
  {
   "cell_type": "code",
   "execution_count": 35,
   "metadata": {},
   "outputs": [
    {
     "data": {
      "image/png": "[encoded data removed]",
      "text/plain": [
       "<Figure size 432x288 with 1 Axes>"
      ]
     },
     "metadata": {},
     "output_type": "display_data"
    }
   ],
   "source": [
    "sns.set_style('whitegrid')\n",
    "sns.kdeplot(np.array(labelsTrain), bw=0.5)\n",
    "plt.show()"
   ]
  },
  {
   "cell_type": "markdown",
   "metadata": {},
   "source": [
    "## kde plot for predicted values of dataset"
   ]
  },
  {
   "cell_type": "code",
   "execution_count": 36,
   "metadata": {},
   "outputs": [
    {
     "data": {
      "image/png": "[encoded data removed]",
      "text/plain": [
       "<Figure size 432x288 with 1 Axes>"
      ]
     },
     "metadata": {},
     "output_type": "display_data"
    }
   ],
   "source": [
    "sns.set_style('whitegrid')\n",
    "sns.kdeplot(np.array(predicted), bw=0.5)\n",
    "plt.show()"
   ]
  },
  {
   "cell_type": "markdown",
   "metadata": {},
   "source": [
    "### Mean squared error for sklearn's implmentation"
   ]
  },
  {
   "cell_type": "code",
   "execution_count": 37,
   "metadata": {},
   "outputs": [
    {
     "data": {
      "text/plain": [
       "37.02328322781862"
      ]
     },
     "execution_count": 37,
     "metadata": {},
     "output_type": "execute_result"
    }
   ],
   "source": [
    "mean_squared_error(labelsTest,sgdPred)"
   ]
  },
  {
   "cell_type": "markdown",
   "metadata": {},
   "source": [
    "### mean squared error for custom implementation"
   ]
  },
  {
   "cell_type": "code",
   "execution_count": 38,
   "metadata": {},
   "outputs": [
    {
     "data": {
      "text/plain": [
       "34.92011227112719"
      ]
     },
     "execution_count": 38,
     "metadata": {},
     "output_type": "execute_result"
    }
   ],
   "source": [
    "mean_squared_error(labelsTest,predicted)"
   ]
  }
 ],
 "metadata": {
  "kernelspec": {
   "display_name": "Python 3",
   "language": "python",
   "name": "python3"
  },
  "language_info": {
   "codemirror_mode": {
    "name": "ipython",
    "version": 3
   },
   "file_extension": ".py",
   "mimetype": "text/x-python",
   "name": "python",
   "nbconvert_exporter": "python",
   "pygments_lexer": "ipython3",
   "version": "3.6.5"
  }
 },
 "nbformat": 4,
 "nbformat_minor": 2
}
